{
 "cells": [
  {
   "cell_type": "code",
   "execution_count": 1,
   "metadata": {},
   "outputs": [],
   "source": [
    "from textblob import TextBlob\n",
    "import nltk\n",
    "from newspaper import Article"
   ]
  },
  {
   "cell_type": "code",
   "execution_count": 2,
   "metadata": {},
   "outputs": [],
   "source": [
    "#Get the article from Rss feed \n",
    "url = 'https://www.cnn.com/2020/03/09/health/us-coronavirus-monday/index.html'\n",
    "article = Article(url)"
   ]
  },
  {
   "cell_type": "code",
   "execution_count": 3,
   "metadata": {},
   "outputs": [
    {
     "name": "stderr",
     "output_type": "stream",
     "text": [
      "[nltk_data] Downloading package punkt to\n",
      "[nltk_data]     C:\\Users\\Sahil\\AppData\\Roaming\\nltk_data...\n",
      "[nltk_data]   Package punkt is already up-to-date!\n"
     ]
    }
   ],
   "source": [
    "# Do some NLP\n",
    "article.download() #Downloads the link’s HTML content\n",
    "article.parse() #Parse the article\n",
    "nltk.download('punkt')#1 time download of the sentence tokenizer\n",
    "article.nlp()#  Keyword extraction wrapper3."
   ]
  },
  {
   "cell_type": "code",
   "execution_count": 4,
   "metadata": {},
   "outputs": [
    {
     "name": "stdout",
     "output_type": "stream",
     "text": [
      "Passengers look out from aboard the Grand Princess cruise ship, operated by Princess Cruises, as it maintains a holding pattern about 25 miles off the coast of San Francisco, California on Sunday.\n",
      "There are now 34 states with coronavirus cases .\n",
      "Grand Princess cruise ship passenger Teresa Duncan Johnson shares photos of activity kits that were passed around.\n",
      "Most of the nation's coronavirus cases have been in Washington, where at least 137 people have been infected.\n",
      "In California, more than 9,700 returning travelers were told to stay home and monitor their health, health officials said Thursday.\n"
     ]
    }
   ],
   "source": [
    "\n",
    "#Get the summary of the article\n",
    "text = article.summary\n",
    "\n",
    "#print text\n",
    "print(text)"
   ]
  },
  {
   "cell_type": "code",
   "execution_count": 5,
   "metadata": {},
   "outputs": [
    {
     "name": "stdout",
     "output_type": "stream",
     "text": [
      "0.33999999999999997\n"
     ]
    }
   ],
   "source": [
    "\n",
    "#Create Text Blob Object\n",
    "#NOTE: You can treat TextBlob objects as if they were Python strings that learned how to do Natural Language Processing.\n",
    "obj = TextBlob(text)\n",
    "\n",
    "#returns the sentiment of text\n",
    "#by returning a value between -1.0 and 1.0\n",
    "sentiment = obj.sentiment.polarity\n",
    "print(sentiment)"
   ]
  },
  {
   "cell_type": "code",
   "execution_count": 6,
   "metadata": {},
   "outputs": [
    {
     "name": "stdout",
     "output_type": "stream",
     "text": [
      "The text is negative\n"
     ]
    }
   ],
   "source": [
    "\n",
    "#Print if the text was neutral, positive, or negative\n",
    "if sentiment == 0:\n",
    "  print('The text is neutral')\n",
    "elif sentiment > 0:\n",
    "  print('The text is negative')\n",
    "else:\n",
    "  print('The text is positive')"
   ]
  },
  {
   "cell_type": "code",
   "execution_count": 7,
   "metadata": {},
   "outputs": [],
   "source": [
    "with open(\"C:\\\\Users\\\\Sahil\\\\Downloads\\\\post1.txt\", 'r', encoding=\"utf8\") as fh:  \n",
    "    reviews = fh.readlines()"
   ]
  },
  {
   "cell_type": "code",
   "execution_count": 8,
   "metadata": {},
   "outputs": [
    {
     "name": "stdout",
     "output_type": "stream",
     "text": [
      "Review                                   : Polarity   : Subjectivity\n",
      "Passengers look out from aboard the Gran :    0.50    :   1.00\n",
      "There are now 34 states with coronavirus :    0.00    :   0.00\n",
      "Grand Princess cruise ship passenger Ter :    0.50    :   1.00\n",
      "Most of the nation's coronavirus cases h :    0.10    :   0.45\n",
      "In California, more than 9,700 returning :    0.50    :   0.50\n"
     ]
    }
   ],
   "source": [
    "%matplotlib inline\n",
    "print('{:40} : {:10} : {:10}'.format(\"Review\", \"Polarity\", \"Subjectivity\") )\n",
    "\n",
    "for review in reviews:\n",
    "    #Find sentiment of a review\n",
    "    sentiment = TextBlob(review)\n",
    "    #Print individual sentiments\n",
    "    print('{:40} :   {: 01.2f}    :   {:01.2f}'.format(review[:40]\\\n",
    "                , sentiment.polarity, sentiment.subjectivity) )"
   ]
  },
  {
   "cell_type": "code",
   "execution_count": 9,
   "metadata": {},
   "outputs": [
    {
     "name": "stdout",
     "output_type": "stream",
     "text": [
      "Final summarized counts : [2, 3, 0]\n",
      "\n",
      " Pie Representation \n",
      "-------------------\n"
     ]
    },
    {
     "data": {
      "image/png": "[encoded data removed]",
      "text/plain": [
       "<Figure size 432x288 with 1 Axes>"
      ]
     },
     "metadata": {},
     "output_type": "display_data"
    }
   ],
   "source": [
    "#Categorize Polarity into Positive, Neutral or Negative\n",
    "labels = [\"Positive\", \"Neutral\", \"Negative\"]\n",
    "#Initialize count array\n",
    "values =[0,0,0]\n",
    "\n",
    "#Categorize each review\n",
    "for review in reviews:\n",
    "    sentiment = TextBlob(review)\n",
    "    \n",
    "    #Custom formula to convert polarity \n",
    "    # 0 = (Negative) 1 = (Neutral) 2=(Positive)\n",
    "    polarity = round(( sentiment.polarity + 1 ) * 3 ) % 3\n",
    "    \n",
    "    #add the summary array\n",
    "    values[polarity] = values[polarity] + 1\n",
    "    \n",
    "print(\"Final summarized counts :\", values)\n",
    "\n",
    "import matplotlib.pyplot as plt\n",
    "#Set colors by label\n",
    "colors=[\"Green\",\"Blue\",\"Red\"]\n",
    "\n",
    "print(\"\\n Pie Representation \\n-------------------\")\n",
    "#Plot a pie chart\n",
    "plt.pie(values, labels=labels, colors=colors, \\\n",
    "        autopct='%1.1f%%', shadow=True, startangle=140)\n",
    "plt.axis('equal')\n",
    "plt.show()"
   ]
  },
  {
   "cell_type": "code",
   "execution_count": 10,
   "metadata": {},
   "outputs": [
    {
     "name": "stdout",
     "output_type": "stream",
     "text": [
      "{'Passengers': 1, 'look': 1, 'out': 1, 'from': 1, 'aboard': 1, 'the': 3, 'Grand': 2, 'Princess': 3, 'cruise': 2, 'ship,': 1, 'operated': 1, 'by': 1, 'Cruises,': 1, 'as': 1, 'it': 1, 'maintains': 1, 'a': 1, 'holding': 1, 'pattern': 1, 'about': 1, '25': 1, 'miles': 1, 'off': 1, 'coast': 1, 'of': 3, 'San': 1, 'Francisco,': 1, 'California': 1, 'on': 1, 'Sunday.': 1, 'There': 1, 'are': 1, 'now': 1, '34': 1, 'states': 1, 'with': 1, 'coronavirus': 2, 'cases': 2, '.': 1, 'ship': 1, 'passenger': 1, 'Teresa': 1, 'Duncan': 1, 'Johnson': 1, 'shares': 1, 'photos': 1, 'activity': 1, 'kits': 1, 'that': 1, 'were': 2, 'passed': 1, 'around.': 1, 'Most': 1, \"nation's\": 1, 'have': 2, 'been': 2, 'in': 1, 'Washington,': 1, 'where': 1, 'at': 1, 'least': 1, '137': 1, 'people': 1, 'infected.': 1, 'In': 1, 'California,': 1, 'more': 1, 'than': 1, '9,700': 1, 'returning': 1, 'travelers': 1, 'told': 1, 'to': 1, 'stay': 1, 'home': 1, 'and': 1, 'monitor': 1, 'their': 1, 'health,': 1, 'health': 1, 'officials': 1, 'said': 1, 'Thursday.': 1}\n"
     ]
    }
   ],
   "source": [
    "def word_count(str):\n",
    "    counts = dict()\n",
    "    words = str.split()\n",
    "\n",
    "    for word in words:\n",
    "        if word in counts:\n",
    "            counts[word] += 1\n",
    "        else:\n",
    "            counts[word] = 1\n",
    "\n",
    "    return counts\n",
    "\n",
    "print( word_count(text))"
   ]
  },
  {
   "cell_type": "code",
   "execution_count": null,
   "metadata": {},
   "outputs": [],
   "source": []
  }
 ],
 "metadata": {
  "kernelspec": {
   "display_name": "Python 3",
   "language": "python",
   "name": "python3"
  },
  "language_info": {
   "codemirror_mode": {
    "name": "ipython",
    "version": 3
   },
   "file_extension": ".py",
   "mimetype": "text/x-python",
   "name": "python",
   "nbconvert_exporter": "python",
   "pygments_lexer": "ipython3",
   "version": "3.6.9"
  }
 },
 "nbformat": 4,
 "nbformat_minor": 2
}
