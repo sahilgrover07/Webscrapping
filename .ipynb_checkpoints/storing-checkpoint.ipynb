{
 "cells": [
  {
   "cell_type": "code",
   "execution_count": 1,
   "metadata": {
    "scrolled": true
   },
   "outputs": [
    {
     "data": {
      "text/plain": [
       "<sqlite3.Cursor at 0x21458f78880>"
      ]
     },
     "execution_count": 1,
     "metadata": {},
     "output_type": "execute_result"
    }
   ],
   "source": [
    "import sqlite3\n",
    "import smtplib \n",
    "from email.mime.text import MIMEText\n",
    "\n",
    "import feedparser\n",
    "\n",
    "db_connection = sqlite3.connect('trial1.db')\n",
    "db = db_connection.cursor()\n",
    "db.execute('CREATE TABLE IF NOT EXISTS finale (title TEXT, date TEXT, url TEXT)')"
   ]
  },
  {
   "cell_type": "code",
   "execution_count": 2,
   "metadata": {},
   "outputs": [],
   "source": [
    "def article_is_not_db(article_title, article_date, article_url):\n",
    "    \"\"\" Check if a given pair of article title and date\n",
    "    is in the database.\n",
    "    Args:\n",
    "        article_title (str): The title of an article\n",
    "        article_date  (str): The publication date of an article\n",
    "    Return:\n",
    "        True if the article is not in the database\n",
    "        False if the article is already present in the database\n",
    "    \"\"\"\n",
    "    db.execute(\"SELECT * from finale WHERE title=? AND date=? AND url=?\", (article_title, article_date, article_url))\n",
    "    if not db.fetchall():\n",
    "        return True\n",
    "    else:\n",
    "        return False"
   ]
  },
  {
   "cell_type": "code",
   "execution_count": 3,
   "metadata": {},
   "outputs": [],
   "source": [
    "def add_article_to_db(article_title, article_date,article_url):\n",
    "    \"\"\" Add a new article title and date to the database\n",
    "    Args:\n",
    "        article_title (str): The title of an article\n",
    "        article_date (str): The publication date of an article\n",
    "    \"\"\"\n",
    "    db.execute(\"INSERT INTO finale VALUES (?,?,?)\", (article_title, article_date, article_url))\n",
    "    db_connection.commit()"
   ]
  },
  {
   "cell_type": "code",
   "execution_count": 4,
   "metadata": {},
   "outputs": [],
   "source": [
    "def read_article_feed():\n",
    "    \"\"\" Get articles from RSS feed \"\"\"\n",
    "    feed = feedparser.parse('https://www.cbc.ca/cmlink/rss-topstories')\n",
    "    for article in feed['entries']:\n",
    "        if article_is_not_db(article['title'], article['published'],article['link']):\n",
    "            add_article_to_db(article['title'], article['published'],article['link'])\n",
    "\n",
    "if __name__ == '__main__':\n",
    "    read_article_feed()\n",
    "    db_connection.close()"
   ]
  },
  {
   "cell_type": "code",
   "execution_count": null,
   "metadata": {},
   "outputs": [],
   "source": []
  }
 ],
 "metadata": {
  "kernelspec": {
   "display_name": "Python 3",
   "language": "python",
   "name": "python3"
  },
  "language_info": {
   "codemirror_mode": {
    "name": "ipython",
    "version": 3
   },
   "file_extension": ".py",
   "mimetype": "text/x-python",
   "name": "python",
   "nbconvert_exporter": "python",
   "pygments_lexer": "ipython3",
   "version": "3.7.3"
  }
 },
 "nbformat": 4,
 "nbformat_minor": 2
}
