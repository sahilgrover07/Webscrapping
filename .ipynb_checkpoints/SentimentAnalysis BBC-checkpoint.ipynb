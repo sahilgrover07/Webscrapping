{
 "cells": [
  {
   "cell_type": "code",
   "execution_count": 2,
   "metadata": {},
   "outputs": [],
   "source": [
    "from textblob import TextBlob\n",
    "import nltk\n",
    "from newspaper import Article"
   ]
  },
  {
   "cell_type": "code",
   "execution_count": 27,
   "metadata": {},
   "outputs": [],
   "source": [
    "#Get the article from Rss feed \n",
    "url = 'https://www.nytimes.com/2020/03/09/us/coronavirus-grand-princess-california.html'\n",
    "article = Article(url)"
   ]
  },
  {
   "cell_type": "code",
   "execution_count": 28,
   "metadata": {},
   "outputs": [
    {
     "name": "stderr",
     "output_type": "stream",
     "text": [
      "[nltk_data] Downloading package punkt to\n",
      "[nltk_data]     C:\\Users\\Sahil\\AppData\\Roaming\\nltk_data...\n",
      "[nltk_data]   Package punkt is already up-to-date!\n"
     ]
    }
   ],
   "source": [
    "# Do some NLP\n",
    "article.download() #Downloads the link’s HTML content\n",
    "article.parse() #Parse the article\n",
    "nltk.download('punkt')#1 time download of the sentence tokenizer\n",
    "article.nlp()#  Keyword extraction wrapper3."
   ]
  },
  {
   "cell_type": "code",
   "execution_count": 29,
   "metadata": {},
   "outputs": [
    {
     "name": "stdout",
     "output_type": "stream",
     "text": [
      "(Here’s the sign-up, if you don’t already get California Today by email.)\n",
      "Over the weekend, confusion and fear about the widening coronavirus outbreak gave way to a heightened new reality for Californians forced to fit their lives around containment measures that might have seemed unthinkable just days ago.\n",
      "Stanford University classes were set to stop meeting in person today, and The San Francisco Chronicle reported that Salesforce, the tech giant based in San Francisco, joined the ranks of companies ordering employees to work from home.\n",
      "“I’m like on the run from the virus,” Zara Khan, a junior at the University of California, Berkeley, who left a study-abroad program in Florence for London, told my colleagues.\n",
      "“I could go back to the States, but that’s not even safe anymore.”\n"
     ]
    }
   ],
   "source": [
    "\n",
    "#Get the summary of the article\n",
    "text = article.summary\n",
    "\n",
    "#print text\n",
    "print(text)"
   ]
  },
  {
   "cell_type": "code",
   "execution_count": 43,
   "metadata": {},
   "outputs": [
    {
     "name": "stdout",
     "output_type": "stream",
     "text": [
      "0.08579545454545454\n"
     ]
    }
   ],
   "source": [
    "\n",
    "#Create Text Blob Object\n",
    "#NOTE: You can treat TextBlob objects as if they were Python strings that learned how to do Natural Language Processing.\n",
    "obj = TextBlob(text)\n",
    "\n",
    "#returns the sentiment of text\n",
    "#by returning a value between -1.0 and 1.0\n",
    "sentiment = obj.sentiment.polarity\n",
    "print(sentiment)"
   ]
  },
  {
   "cell_type": "code",
   "execution_count": 44,
   "metadata": {},
   "outputs": [
    {
     "name": "stdout",
     "output_type": "stream",
     "text": [
      "The text is positive\n"
     ]
    }
   ],
   "source": [
    "\n",
    "#Print if the text was neutral, positive, or negative\n",
    "if sentiment == 0:\n",
    "  print('The text is neutral')\n",
    "elif sentiment > 0:\n",
    "  print('The text is positive')\n",
    "else:\n",
    "  print('The text is negative')"
   ]
  },
  {
   "cell_type": "code",
   "execution_count": 45,
   "metadata": {},
   "outputs": [],
   "source": [
    "with open(\"C:\\\\Users\\\\Sahil\\\\Downloads\\\\post.txt\", 'r', encoding=\"utf8\") as fh:  \n",
    "    reviews = fh.readlines()"
   ]
  },
  {
   "cell_type": "code",
   "execution_count": 46,
   "metadata": {},
   "outputs": [
    {
     "name": "stdout",
     "output_type": "stream",
     "text": [
      "Review                                   : Polarity   : Subjectivity\n",
      "(Here’s the sign-up, if you don’t alread :    0.00    :   0.00\n",
      "Over the weekend, confusion and fear abo :    0.05    :   0.46\n",
      "Stanford University classes were set to  :    0.00    :   1.00\n",
      "“I’m like on the run from the virus,” Za :    0.00    :   0.00\n",
      "“I could go back to the States, but that :    0.25    :   0.25\n"
     ]
    }
   ],
   "source": [
    "%matplotlib inline\n",
    "print('{:40} : {:10} : {:10}'.format(\"Review\", \"Polarity\", \"Subjectivity\") )\n",
    "\n",
    "for review in reviews:\n",
    "    #Find sentiment of a review\n",
    "    sentiment = TextBlob(review)\n",
    "    #Print individual sentiments\n",
    "    print('{:40} :   {: 01.2f}    :   {:01.2f}'.format(review[:40]\\\n",
    "                , sentiment.polarity, sentiment.subjectivity) )"
   ]
  },
  {
   "cell_type": "code",
   "execution_count": 50,
   "metadata": {},
   "outputs": [
    {
     "name": "stdout",
     "output_type": "stream",
     "text": [
      "Final summarized counts : [4, 1, 0]\n",
      "\n",
      " Pie Representation \n",
      "-------------------\n"
     ]
    },
    {
     "data": {
      "image/png": "[encoded data removed]",
      "text/plain": [
       "<Figure size 432x288 with 1 Axes>"
      ]
     },
     "metadata": {},
     "output_type": "display_data"
    }
   ],
   "source": [
    "#Categorize Polarity into Positive, Neutral or Negative\n",
    "labels = [\"Positive\", \"Neutral\", \"Negative\"]\n",
    "#Initialize count array\n",
    "values =[0,0,0]\n",
    "\n",
    "#Categorize each review\n",
    "for review in reviews:\n",
    "    sentiment = TextBlob(review)\n",
    "    \n",
    "    #Custom formula to convert polarity \n",
    "    # 0 = (Negative) 1 = (Neutral) 2=(Positive)\n",
    "    polarity = round(( sentiment.polarity + 1 ) * 3 ) % 3\n",
    "    \n",
    "    #add the summary array\n",
    "    values[polarity] = values[polarity] + 1\n",
    "    \n",
    "print(\"Final summarized counts :\", values)\n",
    "\n",
    "import matplotlib.pyplot as plt\n",
    "#Set colors by label\n",
    "colors=[\"Green\",\"Blue\",\"Red\"]\n",
    "\n",
    "print(\"\\n Pie Representation \\n-------------------\")\n",
    "#Plot a pie chart\n",
    "plt.pie(values, labels=labels, colors=colors, \\\n",
    "        autopct='%1.1f%%', shadow=True, startangle=140)\n",
    "plt.axis('equal')\n",
    "plt.show()"
   ]
  },
  {
   "cell_type": "code",
   "execution_count": null,
   "metadata": {},
   "outputs": [],
   "source": []
  }
 ],
 "metadata": {
  "kernelspec": {
   "display_name": "Python 3",
   "language": "python",
   "name": "python3"
  },
  "language_info": {
   "codemirror_mode": {
    "name": "ipython",
    "version": 3
   },
   "file_extension": ".py",
   "mimetype": "text/x-python",
   "name": "python",
   "nbconvert_exporter": "python",
   "pygments_lexer": "ipython3",
   "version": "3.6.9"
  }
 },
 "nbformat": 4,
 "nbformat_minor": 2
}
